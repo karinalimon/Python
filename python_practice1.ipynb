{
  "metadata": {
    "kernelspec": {
      "name": "python",
      "display_name": "Python (Pyodide)",
      "language": "python"
    },
    "language_info": {
      "codemirror_mode": {
        "name": "python",
        "version": 3
      },
      "file_extension": ".py",
      "mimetype": "text/x-python",
      "name": "python",
      "nbconvert_exporter": "python",
      "pygments_lexer": "ipython3",
      "version": "3.8"
    }
  },
  "nbformat_minor": 5,
  "nbformat": 4,
  "cells": [
    {
      "id": "02f4c5a9-1537-4f3d-81b3-9407b30e77f9",
      "cell_type": "code",
      "source": "spam_amount = 0\nprint(spam_amount)\n\n# Ordering Spam, egg, Spam, Spam, bacon and Spam (4 more servings of Spam)\nspam_amount = spam_amount + 4\n\nif spam_amount > 0:\n    print(\"But I don't want ANY spam!\")\n\nviking_song = \"Spam \" * spam_amount\nprint(viking_song)",
      "metadata": {
        "trusted": true
      },
      "outputs": [
        {
          "name": "stdout",
          "output_type": "stream",
          "text": "0\nBut I don't want ANY spam!\nSpam Spam Spam Spam \n"
        }
      ],
      "execution_count": 1
    },
    {
      "id": "f4a2c7aa-08c6-44bb-a54f-8884d92e7692",
      "cell_type": "code",
      "source": "spam_amount = 0\n",
      "metadata": {
        "trusted": true
      },
      "outputs": [],
      "execution_count": 2
    },
    {
      "id": "d2801939-4ccd-4e27-9b5d-402756d41e59",
      "cell_type": "code",
      "source": "print(spam_amount)",
      "metadata": {
        "trusted": true
      },
      "outputs": [
        {
          "name": "stdout",
          "output_type": "stream",
          "text": "0\n"
        }
      ],
      "execution_count": 3
    },
    {
      "id": "9c197c4a-1e41-4ea6-a476-d84ea73dacc2",
      "cell_type": "code",
      "source": "# Ordering Spam, egg, Spam, Spam, bacon and Spam (4 more servings of Spam)\nspam_amount = spam_amount + 4",
      "metadata": {
        "trusted": true
      },
      "outputs": [],
      "execution_count": 4
    },
    {
      "id": "847e7c9a-883b-478b-8464-4a94065b53bd",
      "cell_type": "code",
      "source": "if spam_amount > 0:\n    print(\"But I don't want ANY spam!\")\n\nviking_song = \"Spam Spam Spam\"\nprint(viking_song)",
      "metadata": {
        "trusted": true
      },
      "outputs": [
        {
          "name": "stdout",
          "output_type": "stream",
          "text": "But I don't want ANY spam!\nSpam Spam Spam\n"
        }
      ],
      "execution_count": 5
    },
    {
      "id": "42594190-0c5c-4b54-9be1-be5bad14c50d",
      "cell_type": "code",
      "source": "viking_song = \"Spam \" * spam_amount\nprint(viking_song)",
      "metadata": {
        "trusted": true
      },
      "outputs": [
        {
          "name": "stdout",
          "output_type": "stream",
          "text": "Spam Spam Spam Spam \n"
        }
      ],
      "execution_count": 6
    },
    {
      "id": "a74e1c0a-54f8-42de-a892-dc51ee49c96e",
      "cell_type": "code",
      "source": "spam_amount = 0",
      "metadata": {
        "trusted": true
      },
      "outputs": [],
      "execution_count": 7
    },
    {
      "id": "0c6ef261-dc46-48c2-9536-ae247b1ef7e5",
      "cell_type": "code",
      "source": "type(spam_amount)",
      "metadata": {
        "trusted": true
      },
      "outputs": [
        {
          "execution_count": 8,
          "output_type": "execute_result",
          "data": {
            "text/plain": "int"
          },
          "metadata": {}
        }
      ],
      "execution_count": 8
    },
    {
      "id": "e087f41f-b5c2-4eb6-92cb-c3efba29ff8b",
      "cell_type": "code",
      "source": "type(19.95)",
      "metadata": {
        "trusted": true
      },
      "outputs": [
        {
          "execution_count": 9,
          "output_type": "execute_result",
          "data": {
            "text/plain": "float"
          },
          "metadata": {}
        }
      ],
      "execution_count": 9
    },
    {
      "id": "2df70394-210c-48c1-afce-c7665be25655",
      "cell_type": "code",
      "source": "print(5 / 2)\nprint(6 / 2)",
      "metadata": {
        "trusted": true
      },
      "outputs": [
        {
          "name": "stdout",
          "output_type": "stream",
          "text": "2.5\n3.0\n"
        }
      ],
      "execution_count": 10
    },
    {
      "id": "47df6e9d-6d17-4849-b59d-b768b484c10e",
      "cell_type": "code",
      "source": "print(5 // 2)\nprint(6 // 2)",
      "metadata": {
        "trusted": true
      },
      "outputs": [
        {
          "name": "stdout",
          "output_type": "stream",
          "text": "2\n3\n"
        }
      ],
      "execution_count": 11
    },
    {
      "id": "ecade0d1-4c18-4c0a-8b21-ccd957a7b1b0",
      "cell_type": "code",
      "source": "8 - 3 + 2",
      "metadata": {
        "trusted": true
      },
      "outputs": [
        {
          "execution_count": 12,
          "output_type": "execute_result",
          "data": {
            "text/plain": "7"
          },
          "metadata": {}
        }
      ],
      "execution_count": 12
    },
    {
      "id": "0610a1d0-ceb5-46eb-886e-cc7f0fd9b8e3",
      "cell_type": "code",
      "source": "-3 + 4 * 2",
      "metadata": {
        "trusted": true
      },
      "outputs": [
        {
          "execution_count": 13,
          "output_type": "execute_result",
          "data": {
            "text/plain": "5"
          },
          "metadata": {}
        }
      ],
      "execution_count": 13
    },
    {
      "id": "c363b2a6-0753-4507-87c3-e8d6a25a3a54",
      "cell_type": "code",
      "source": "hat_height_cm = 25\nmy_height_cm = 190\n# How tall am I, in meters, when wearing my hat?\ntotal_height_meters = hat_height_cm + my_height_cm / 100\nprint(\"Height in meters =\", total_height_meters, \"?\")",
      "metadata": {
        "trusted": true
      },
      "outputs": [
        {
          "name": "stdout",
          "output_type": "stream",
          "text": "Height in meters = 26.9 ?\n"
        }
      ],
      "execution_count": 14
    },
    {
      "id": "ae3444cf-936c-4b9b-af6a-1b27f5467023",
      "cell_type": "code",
      "source": "total_height_meters = (hat_height_cm + my_height_cm) / 100\nprint(\"Height in meters =\", total_height_meters)",
      "metadata": {
        "trusted": true
      },
      "outputs": [
        {
          "name": "stdout",
          "output_type": "stream",
          "text": "Height in meters = 2.15\n"
        }
      ],
      "execution_count": 15
    },
    {
      "id": "1615a799-3f50-4850-96f8-ca1cb6664284",
      "cell_type": "code",
      "source": "print(min(1, 2, 3))\nprint(max(1, 2, 3))",
      "metadata": {
        "trusted": true
      },
      "outputs": [
        {
          "name": "stdout",
          "output_type": "stream",
          "text": "1\n3\n"
        }
      ],
      "execution_count": 16
    },
    {
      "id": "9828d45f-5107-4a8f-aece-3e028fb4470f",
      "cell_type": "code",
      "source": "print(abs(32))\nprint(abs(-32))",
      "metadata": {
        "trusted": true
      },
      "outputs": [
        {
          "name": "stdout",
          "output_type": "stream",
          "text": "32\n32\n"
        }
      ],
      "execution_count": 17
    },
    {
      "id": "38d07bef-8a4e-4b7b-95cc-732d757828a2",
      "cell_type": "code",
      "source": "print(float(10))\nprint(int(3.33))\n# They can even be called on strings!\nprint(int('807') + 1)",
      "metadata": {
        "trusted": true
      },
      "outputs": [
        {
          "name": "stdout",
          "output_type": "stream",
          "text": "10.0\n3\n808\n"
        }
      ],
      "execution_count": 18
    },
    {
      "id": "1a2deb1b-64a7-42ba-802f-d374b65063d9",
      "cell_type": "code",
      "source": "",
      "metadata": {
        "trusted": true
      },
      "outputs": [],
      "execution_count": null
    },
    {
      "id": "fc9b356a-2a0e-4513-a14d-9c98517db0fd",
      "cell_type": "code",
      "source": "",
      "metadata": {
        "trusted": true
      },
      "outputs": [],
      "execution_count": null
    }
  ]
}