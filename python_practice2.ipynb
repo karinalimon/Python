{
  "metadata": {
    "kernelspec": {
      "name": "python",
      "display_name": "Python (Pyodide)",
      "language": "python"
    },
    "language_info": {
      "codemirror_mode": {
        "name": "python",
        "version": 3
      },
      "file_extension": ".py",
      "mimetype": "text/x-python",
      "name": "python",
      "nbconvert_exporter": "python",
      "pygments_lexer": "ipython3",
      "version": "3.8"
    }
  },
  "nbformat_minor": 5,
  "nbformat": 4,
  "cells": [
    {
      "id": "5323efb1-fb33-49f8-8977-bf47e14e03dd",
      "cell_type": "code",
      "source": "print(\"You've successfully run some Python code\")\nprint(\"Congratulations!\")",
      "metadata": {
        "trusted": true
      },
      "outputs": [
        {
          "name": "stdout",
          "output_type": "stream",
          "text": "You've successfully run some Python code\nCongratulations!\n"
        }
      ],
      "execution_count": 1
    },
    {
      "id": "6911839d-e4ab-4434-96a5-533d6cb273af",
      "cell_type": "code",
      "source": "print(\"What movie did the pirate see? Answer: One that was rated Arrrr\")",
      "metadata": {
        "trusted": true
      },
      "outputs": [
        {
          "name": "stdout",
          "output_type": "stream",
          "text": "What movie did the pirate see? Answer: One that was rated Arrrr\n"
        }
      ],
      "execution_count": 2
    },
    {
      "id": "4b8953fc-6c08-4d9a-9331-e92dbdbcce5f",
      "cell_type": "markdown",
      "source": "**What is your favorite color? **\n\nTo complete this question, create a variable called color in the cell below with an appropriate value. ",
      "metadata": {}
    },
    {
      "id": "c7c8ec99-59f0-4d69-bc33-1983f612ce44",
      "cell_type": "code",
      "source": "color = 'ghoul'",
      "metadata": {
        "trusted": true
      },
      "outputs": [],
      "execution_count": 4
    },
    {
      "id": "4b680109-4e78-4c75-9d19-4db3ab193e40",
      "cell_type": "code",
      "source": "pi = 3.14159 # approximate\ndiameter = 3\n\n# Create a variable called 'radius' equal to half the diameter\nradius = diameter / 2\n\n\n# Create a variable called 'area', using the formula for the area of a circle: pi times the radius \n# squared\narea = pi * radius **2",
      "metadata": {
        "trusted": true
      },
      "outputs": [],
      "execution_count": 8
    },
    {
      "id": "b937a4e2-3e11-48ad-b760-82a54b3aa96c",
      "cell_type": "code",
      "source": "a = [1, 2, 3]\nb = [3, 2, 1]\n\n######################################################################\n\n# Your code goes here. Swap the values to which a and b refer.\n# If you get stuck, you can always uncomment one or both of the lines in\n# the next cell for a hint, or to peek at the solution.\nc = a\na = b\nb = c\n",
      "metadata": {
        "trusted": true
      },
      "outputs": [],
      "execution_count": 10
    },
    {
      "id": "9d9cc193-d0e1-47fb-af71-5e4705d86f95",
      "cell_type": "markdown",
      "source": "Add parentheses to the following expression so that it evaluates to 1.",
      "metadata": {}
    },
    {
      "id": "7fe9e56f-ebd9-4a3e-bc52-0de96fc849cd",
      "cell_type": "code",
      "source": "(5 - 3) // 2",
      "metadata": {
        "trusted": true
      },
      "outputs": [
        {
          "execution_count": 11,
          "output_type": "execute_result",
          "data": {
            "text/plain": "1"
          },
          "metadata": {}
        }
      ],
      "execution_count": 11
    },
    {
      "id": "71a4849a-28c2-4466-8b0b-91329d400626",
      "cell_type": "markdown",
      "source": "Add parentheses to the following expression so that it evaluates to 0.",
      "metadata": {}
    },
    {
      "id": "8ea7f9fb-80b7-45ea-900f-f2908dc407c8",
      "cell_type": "code",
      "source": "(8 - 3) * (2 - (1 + 1))",
      "metadata": {
        "trusted": true
      },
      "outputs": [
        {
          "execution_count": 16,
          "output_type": "execute_result",
          "data": {
            "text/plain": "0"
          },
          "metadata": {}
        }
      ],
      "execution_count": 16
    },
    {
      "id": "fe018fdb-b91c-4bad-bd90-85ba2fa5dbd9",
      "cell_type": "markdown",
      "source": "Alice, Bob and Carol have agreed to pool their Halloween candy and split it evenly among themselves. For the sake of their friendship, any candies left over will be smashed. For example, if they collectively bring home 91 candies, they'll take 30 each and smash 1.\n\nWrite an arithmetic expression below to calculate how many candies they must smash for a given haul.",
      "metadata": {}
    },
    {
      "id": "a3b0da6b-f466-47de-9fd5-690881f266b5",
      "cell_type": "code",
      "source": "# Variables representing the number of candies collected by alice, bob, and carol\nalice_candies = 121\nbob_candies = 77\ncarol_candies = 109\n\n# Your code goes here! Replace the right-hand side of this assignment with an expression\n# involving alice_candies, bob_candies, and carol_candies\nto_smash = -1",
      "metadata": {
        "trusted": true
      },
      "outputs": [],
      "execution_count": 17
    },
    {
      "id": "e967c639-32e6-4fc8-9002-d355fecb8417",
      "cell_type": "code",
      "source": "(alice_candies + bob_candies + carol_candies) % 3",
      "metadata": {
        "trusted": true
      },
      "outputs": [
        {
          "execution_count": 18,
          "output_type": "execute_result",
          "data": {
            "text/plain": "1"
          },
          "metadata": {}
        }
      ],
      "execution_count": 18
    },
    {
      "id": "bd800fab-8e31-4d03-8c94-11d2163df5b3",
      "cell_type": "code",
      "source": "",
      "metadata": {
        "trusted": true
      },
      "outputs": [],
      "execution_count": null
    },
    {
      "id": "69fba033-f477-4eca-b3c4-3611921946f0",
      "cell_type": "code",
      "source": "",
      "metadata": {
        "trusted": true
      },
      "outputs": [],
      "execution_count": null
    }
  ]
}